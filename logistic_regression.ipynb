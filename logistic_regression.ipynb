{
  "nbformat": 4,
  "nbformat_minor": 0,
  "metadata": {
    "colab": {
      "provenance": []
    },
    "kernelspec": {
      "name": "python3",
      "display_name": "Python 3"
    },
    "language_info": {
      "name": "python"
    }
  },
  "cells": [
    {
      "cell_type": "markdown",
      "source": [
        "\n",
        "\n",
        "---\n",
        "\n",
        "### 🧠 Logistic Regression:Theory Questions and Answers\n",
        "---\n",
        "\n",
        "## \\*\\*Question 1: What is Logistic Regression, and how does it differ from Linear Regression?\n",
        "\n",
        "**Logistic Regression** is a supervised machine learning algorithm used for **classification problems**, especially **binary classification**. It estimates the **probability** that a data point belongs to a particular class (typically class 1).\n",
        "\n",
        "### 🔄 Difference from Linear Regression:\n",
        "\n",
        "| Feature           | Logistic Regression                 | Linear Regression              |\n",
        "| ----------------- | ----------------------------------- | ------------------------------ |\n",
        "| Purpose           | Classification                      | Regression (continuous values) |\n",
        "| Output Range      | 0 to 1 (interpreted as probability) | Any real number                |\n",
        "| Function Used     | Sigmoid Function                    | Linear Function                |\n",
        "| Output Type       | Class Label (after thresholding)    | Numeric value                  |\n",
        "| Decision Boundary | Yes (based on threshold)            | No decision boundary           |\n",
        "\n",
        "---\n",
        "\n",
        "## **Question 2: What is the mathematical equation of Logistic Regression?**\n",
        "\n",
        "The logistic regression model predicts the probability using the **sigmoid function** applied to a linear combination of input features:\n",
        "\n",
        "$$\n",
        "h_\\theta(x) = \\frac{1}{1 + e^{-\\theta^T x}}\n",
        "$$\n",
        "\n",
        "Where:\n",
        "\n",
        "* $h_\\theta(x)$: Predicted probability that the output $y = 1$\n",
        "* $\\theta$: Weight (parameter) vector\n",
        "* $x$: Input feature vector\n",
        "* $\\theta^T x$: Dot product of $\\theta$ and $x$\n",
        "* $e$: Euler’s number (\\~2.718)\n",
        "\n",
        "---\n",
        "\n",
        "## **Question 3: Why do we use the Sigmoid function in Logistic Regression?**\n",
        "\n",
        "The **Sigmoid function** converts any real-valued number into a value **between 0 and 1**, which can be interpreted as a **probability**.\n",
        "\n",
        "### Sigmoid Function Formula:\n",
        "\n",
        "$$\n",
        "\\sigma(z) = \\frac{1}{1 + e^{-z}}\n",
        "$$\n",
        "\n",
        "### ✅ Benefits:\n",
        "\n",
        "* Ensures output is between 0 and 1.\n",
        "* Allows probabilistic interpretation.\n",
        "* Smooth and differentiable (good for optimization).\n",
        "* Monotonically increasing (greater inputs yield greater probabilities).\n",
        "\n",
        "---\n",
        "\n",
        "## **Question 4: What is the cost function of Logistic Regression?**\n",
        "\n",
        "Logistic Regression uses the **Binary Cross-Entropy Loss** (also called **Log Loss**) as its cost function:\n",
        "\n",
        "$$\n",
        "J(\\theta) = -\\frac{1}{m} \\sum_{i=1}^{m} \\left[ y^{(i)} \\log(h_\\theta(x^{(i)})) + (1 - y^{(i)}) \\log(1 - h_\\theta(x^{(i)})) \\right]\n",
        "$$\n",
        "\n",
        "Where:\n",
        "\n",
        "* $m$: Number of training examples\n",
        "* $y^{(i)}$: Actual class label (0 or 1)\n",
        "* $h_\\theta(x^{(i)})$: Predicted probability\n",
        "\n",
        "This cost function penalizes predictions that are far from the actual label.\n",
        "\n",
        "---\n",
        "\n",
        "## **Question 5: What is Regularization in Logistic Regression? Why is it needed?**\n",
        "\n",
        "**Regularization** is a technique to prevent **overfitting** by discouraging overly complex models with large weights. It adds a **penalty term** to the cost function.\n",
        "\n",
        "### Two Common Types:\n",
        "\n",
        "* **L1 Regularization (Lasso):** Adds absolute values of weights\n",
        "* **L2 Regularization (Ridge):** Adds squared values of weights\n",
        "\n",
        "### Modified Cost Function with L2:\n",
        "\n",
        "$$\n",
        "J(\\theta) = \\text{Log Loss} + \\frac{\\lambda}{2m} \\sum_{j=1}^{n} \\theta_j^2\n",
        "$$\n",
        "\n",
        "Where:\n",
        "\n",
        "* $\\lambda$: Regularization strength (hyperparameter)\n",
        "* $m$: Number of examples\n",
        "\n",
        "### ✅ Purpose of Regularization:\n",
        "\n",
        "* Controls model complexity\n",
        "* Prevents overfitting\n",
        "* Encourages smaller, more generalizable weights\n",
        "\n",
        "---\n",
        "\n"
      ],
      "metadata": {
        "id": "luyoYn47a8aH"
      }
    },
    {
      "cell_type": "markdown",
      "source": [
        "\n",
        "---\n",
        "\n",
        "\n",
        "---\n",
        "\n",
        "## **Question 6: Explain the difference between Lasso, Ridge, and Elastic Net Regression**\n",
        "\n",
        "These are all **regularization techniques** used to prevent overfitting by adding a penalty to the loss function.\n",
        "\n",
        "| Type            | Regularization Term       | Effect on Weights             | Feature Selection               |                             |     |\n",
        "| --------------- | ------------------------- | ----------------------------- | ------------------------------- | --------------------------- | --- |\n",
        "| **Lasso**       | ( \\lambda \\sum            | \\theta\\_j                     | )                               | Can shrink some to **zero** | Yes |\n",
        "| **Ridge**       | $\\lambda \\sum \\theta_j^2$ | Shrinks but **does not zero** | No                              |                             |     |\n",
        "| **Elastic Net** | ( \\lambda\\_1 \\sum         | \\theta\\_j                     | + \\lambda\\_2 \\sum \\theta\\_j^2 ) | Combines both               | Yes |\n",
        "\n",
        "### 📌 Summary:\n",
        "\n",
        "* **Lasso** is good for **sparse models** (feature selection).\n",
        "* **Ridge** is good when **all features are useful** but need to be shrunk.\n",
        "* **Elastic Net** is a hybrid that performs well when features are **correlated**.\n",
        "\n",
        "---\n",
        "\n",
        "## **Question 7: When should we use Elastic Net instead of Lasso or Ridge?**\n",
        "\n",
        "Use **Elastic Net** when:\n",
        "\n",
        "* There are **highly correlated features**.\n",
        "* You want **feature selection** (like Lasso) but also **stability** (like Ridge).\n",
        "* The number of predictors $p$ is **greater than** the number of observations $n$.\n",
        "* Lasso selects **too few features** or Ridge does **not perform feature elimination**.\n",
        "\n",
        "### ✅ Key Benefit:\n",
        "\n",
        "Elastic Net avoids the **limitations** of Lasso and Ridge by combining both regularization effects.\n",
        "\n",
        "---\n",
        "\n",
        "## **Question 8: What is the impact of the regularization parameter (λ) in Logistic Regression?**\n",
        "\n",
        "The regularization parameter $\\lambda$ (also written as `C = 1/λ` in scikit-learn) **controls the strength** of the penalty.\n",
        "\n",
        "| λ Value        | Effect on Model                      |\n",
        "| -------------- | ------------------------------------ |\n",
        "| **λ → 0**      | Less regularization → overfitting    |\n",
        "| **λ → ∞**      | Strong regularization → underfitting |\n",
        "| **Moderate λ** | Best generalization                  |\n",
        "\n",
        "### ✅ Interpretation:\n",
        "\n",
        "* **Small λ** allows weights to grow → can overfit.\n",
        "* **Large λ** shrinks weights → simpler model → might underfit.\n",
        "* **Tuning λ** helps find the **right bias-variance trade-off**.\n",
        "\n",
        "---\n",
        "\n",
        "## **Question 9: What are the key assumptions of Logistic Regression?**\n",
        "\n",
        "While logistic regression is **less restrictive** than linear regression, it still makes several important assumptions:\n",
        "\n",
        "1. **Binary output variable** (for basic logistic regression).\n",
        "2. **Linearity of log-odds**: The logit (log-odds) of the outcome is a **linear combination** of input features.\n",
        "3. **Independence of observations**.\n",
        "4. **Low multicollinearity**: Predictors should not be highly correlated.\n",
        "5. **Large sample size**: Especially when features are many.\n",
        "6. **No outliers**: Outliers can bias the model due to the log-likelihood optimization.\n",
        "\n",
        "---\n",
        "\n",
        "## **Question 10: What are some alternatives to Logistic Regression for classification tasks?**\n",
        "\n",
        "When logistic regression isn't sufficient (e.g., for non-linear problems or complex datasets), you can use:\n",
        "\n",
        "### ✅ Common Alternatives:\n",
        "\n",
        "1. **Decision Trees**\n",
        "2. **Random Forests**\n",
        "3. **Gradient Boosting (e.g., XGBoost, LightGBM)**\n",
        "4. **Support Vector Machines (SVM)**\n",
        "5. **k-Nearest Neighbors (KNN)**\n",
        "6. **Naive Bayes**\n",
        "7. **Neural Networks**\n",
        "8. **Quadratic Discriminant Analysis (QDA)**\n",
        "\n",
        "### 🔍 When to switch?\n",
        "\n",
        "* Logistic Regression struggles with **non-linear** decision boundaries.\n",
        "* Alternatives may handle **interactions**, **non-linearity**, and **complex patterns** better.\n",
        "\n",
        "---\n",
        "\n",
        "\n"
      ],
      "metadata": {
        "id": "CI8ku1YHbF4z"
      }
    },
    {
      "cell_type": "markdown",
      "source": [
        "\n",
        "\n",
        "---\n",
        "\n",
        "\n",
        "## **Question 11: What are Classification Evaluation Metrics?**\n",
        "\n",
        "Classification metrics evaluate how well a model distinguishes between classes.\n",
        "\n",
        "### ✅ Common Metrics:\n",
        "\n",
        "1. **Accuracy**\n",
        "\n",
        "   $$\n",
        "   \\text{Accuracy} = \\frac{\\text{TP + TN}}{\\text{TP + TN + FP + FN}}\n",
        "   $$\n",
        "\n",
        "   Proportion of correctly predicted labels.\n",
        "\n",
        "2. **Precision**\n",
        "\n",
        "   $$\n",
        "   \\text{Precision} = \\frac{\\text{TP}}{\\text{TP + FP}}\n",
        "   $$\n",
        "\n",
        "   Correctness among predicted positives.\n",
        "\n",
        "3. **Recall (Sensitivity or TPR)**\n",
        "\n",
        "   $$\n",
        "   \\text{Recall} = \\frac{\\text{TP}}{\\text{TP + FN}}\n",
        "   $$\n",
        "\n",
        "   Ability to find all actual positives.\n",
        "\n",
        "4. **F1-Score**\n",
        "\n",
        "   $$\n",
        "   \\text{F1} = 2 \\times \\frac{\\text{Precision} \\times \\text{Recall}}{\\text{Precision + Recall}}\n",
        "   $$\n",
        "\n",
        "   Harmonic mean of precision and recall.\n",
        "\n",
        "5. **ROC-AUC**\n",
        "\n",
        "   * Measures area under the **Receiver Operating Characteristic** curve.\n",
        "   * High AUC means good model separation.\n",
        "\n",
        "6. **Confusion Matrix**\n",
        "   A table showing TP, TN, FP, FN to visualize model performance.\n",
        "\n",
        "---\n",
        "\n",
        "## **Question 12: How does class imbalance affect Logistic Regression?**\n",
        "\n",
        "### ❌ Problem:\n",
        "\n",
        "When one class is much more frequent than the other (e.g., 95% vs 5%), logistic regression **leans toward predicting the majority class**, leading to:\n",
        "\n",
        "* **High accuracy** but **low recall** for the minority class.\n",
        "* Poor **F1-score** and misleading performance.\n",
        "\n",
        "### ✅ Solutions:\n",
        "\n",
        "1. **Class Weights**\n",
        "   Use `class_weight='balanced'` in scikit-learn to give more importance to the minority class.\n",
        "\n",
        "2. **Oversampling**\n",
        "   Duplicate minority class examples (e.g., SMOTE).\n",
        "\n",
        "3. **Undersampling**\n",
        "   Reduce majority class examples.\n",
        "\n",
        "4. **Evaluation Metrics**\n",
        "   Focus on **precision**, **recall**, and **AUC**, not just accuracy.\n",
        "\n",
        "---\n",
        "\n",
        "## **Question 13: What is Hyperparameter Tuning in Logistic Regression?**\n",
        "\n",
        "Hyperparameter tuning is the process of selecting the **best model parameters** that aren’t learned directly from the data.\n",
        "\n",
        "### 🔧 Important Hyperparameters:\n",
        "\n",
        "1. **C (Inverse of λ):** Controls regularization strength.\n",
        "2. **Penalty:** Choose between `'l1'`, `'l2'`, or `'elasticnet'`.\n",
        "3. **Solver:** Optimization algorithm (`'liblinear'`, `'saga'`, `'lbfgs'`).\n",
        "4. **Class Weight:** `'balanced'` helps with imbalanced data.\n",
        "5. **Max Iterations:** Controls convergence speed.\n",
        "\n",
        "### ✅ Methods for Tuning:\n",
        "\n",
        "* **Grid Search**\n",
        "* **Random Search**\n",
        "* **Bayesian Optimization**\n",
        "* **Cross-Validation** (usually k-fold)\n",
        "\n",
        "---\n",
        "\n",
        "## **Question 14: What are different solvers in Logistic Regression? Which one should be used?**\n",
        "\n",
        "Solvers are optimization algorithms used to **minimize the cost function** in logistic regression.\n",
        "\n",
        "| Solver        | Supports           | Use Case                                 |\n",
        "| ------------- | ------------------ | ---------------------------------------- |\n",
        "| **liblinear** | L1, L2             | Good for small datasets, sparse data     |\n",
        "| **lbfgs**     | L2                 | Default for large datasets               |\n",
        "| **saga**      | L1, L2, ElasticNet | Fast, handles large-scale problems       |\n",
        "| **newton-cg** | L2                 | Second-order method, supports multiclass |\n",
        "\n",
        "### ✅ Recommendations:\n",
        "\n",
        "* Use **`lbfgs`** for general-purpose and multiclass problems.\n",
        "* Use **`saga`** for large-scale or elastic net regularization.\n",
        "* Use **`liblinear`** for binary classification with L1 penalty.\n",
        "\n",
        "---\n",
        "\n",
        "## **Question 15: How is Logistic Regression extended for multiclass classification?**\n",
        "\n",
        "Logistic Regression handles multiclass classification using:\n",
        "\n",
        "### 1. **One-vs-Rest (OvR)**:\n",
        "\n",
        "* Trains **one classifier per class** vs all others.\n",
        "* Final class = highest probability output.\n",
        "* Supported by most libraries (default in scikit-learn).\n",
        "\n",
        "### 2. **Multinomial (Softmax Regression)**:\n",
        "\n",
        "* Directly models **probability distribution** over multiple classes.\n",
        "* Uses **softmax function** instead of sigmoid.\n",
        "\n",
        "$$\n",
        "P(y = k \\mid x) = \\frac{e^{\\theta_k^T x}}{\\sum_{j=1}^{K} e^{\\theta_j^T x}}\n",
        "$$\n",
        "\n",
        "Where:\n",
        "\n",
        "* $\\theta_k$: Weights for class $k$\n",
        "* $K$: Total number of classes\n",
        "\n",
        "### ✅ Use Cases:\n",
        "\n",
        "* **OvR**: Simple, good for **binary-like** multiclass setups.\n",
        "* **Softmax**: Better for **balanced and correlated** multiclass problems.\n",
        "\n",
        "---\n"
      ],
      "metadata": {
        "id": "uwgBhRaQbPQ1"
      }
    },
    {
      "cell_type": "markdown",
      "source": [
        "\n",
        "---\n",
        "\n",
        "\n",
        "\n",
        "---\n",
        "\n",
        "## **Question 16: What are the advantages and disadvantages of Logistic Regression?**\n",
        "\n",
        "### ✅ Advantages:\n",
        "\n",
        "1. **Simple & Interpretable**\n",
        "   Easy to understand and explain results.\n",
        "\n",
        "2. **Fast Training**\n",
        "   Low computational cost, even on large datasets.\n",
        "\n",
        "3. **Probabilistic Output**\n",
        "   Predicts class probabilities, useful for decision thresholds.\n",
        "\n",
        "4. **Works Well with Linearly Separable Data**\n",
        "\n",
        "5. **Regularization Support**\n",
        "   Can include L1, L2 to prevent overfitting.\n",
        "\n",
        "---\n",
        "\n",
        "### ❌ Disadvantages:\n",
        "\n",
        "1. **Assumes Linearity of Log-Odds**\n",
        "   Cannot model non-linear decision boundaries unless features are transformed.\n",
        "\n",
        "2. **Poor with Outliers**\n",
        "   Sensitive to extreme values.\n",
        "\n",
        "3. **Limited for Complex Relationships**\n",
        "   Underperforms when interactions or non-linearities are important.\n",
        "\n",
        "4. **Not Ideal for Multicollinearity**\n",
        "   High correlation between variables can distort results.\n",
        "\n",
        "---\n",
        "\n",
        "## **Question 17: What are some use cases of Logistic Regression?**\n",
        "\n",
        "Logistic Regression is widely used across industries for binary or multiclass classification tasks.\n",
        "\n",
        "### ✅ Common Use Cases:\n",
        "\n",
        "1. **Medical Diagnosis**\n",
        "   Predict if a patient has a disease (yes/no).\n",
        "\n",
        "2. **Marketing**\n",
        "   Will a user click an ad or not?\n",
        "\n",
        "3. **Finance**\n",
        "   Credit scoring – will a user default on a loan?\n",
        "\n",
        "4. **Spam Detection**\n",
        "   Email classification (spam or not).\n",
        "\n",
        "5. **Fraud Detection**\n",
        "   Is this transaction fraudulent?\n",
        "\n",
        "6. **Churn Prediction**\n",
        "   Will a customer leave the service?\n",
        "\n",
        "7. **Social Science Research**\n",
        "   Predict likelihood of voting, employment status, etc.\n",
        "\n",
        "---\n",
        "\n",
        "## **Question 18: What is the difference between Softmax Regression and Logistic Regression?**\n",
        "\n",
        "| Feature             | Logistic Regression                | Softmax Regression (Multinomial LR)                    |\n",
        "| ------------------- | ---------------------------------- | ------------------------------------------------------ |\n",
        "| Output Classes      | Two (binary)                       | More than two (multiclass)                             |\n",
        "| Activation Function | Sigmoid                            | Softmax                                                |\n",
        "| Equation            | $\\sigma(z) = \\frac{1}{1 + e^{-z}}$ | $\\text{Softmax}(z_i) = \\frac{e^{z_i}}{\\sum_j e^{z_j}}$ |\n",
        "| Use Case            | Binary classification              | Multiclass classification                              |\n",
        "\n",
        "### ✅ Summary:\n",
        "\n",
        "* **Logistic Regression**: Uses **sigmoid** for binary problems.\n",
        "* **Softmax Regression**: Uses **softmax** for multiclass problems (predicts probabilities for **all classes** simultaneously).\n",
        "\n",
        "---\n",
        "\n",
        "## **Question 19: How do we choose between One-vs-Rest (OvR) and Softmax for multiclass classification?**\n",
        "\n",
        "### ✅ Use **OvR (One-vs-Rest)** when:\n",
        "\n",
        "* Classes are **well-separated**.\n",
        "* You want **interpretability**.\n",
        "* Dataset is **small or sparse**.\n",
        "* Using a library that doesn’t support multinomial natively.\n",
        "\n",
        "### ✅ Use **Softmax (Multinomial)** when:\n",
        "\n",
        "* Classes are **mutually exclusive** and **interdependent**.\n",
        "* You care about **true class probabilities**.\n",
        "* Dataset is **large**, well-distributed, and classes are **correlated**.\n",
        "\n",
        "---\n",
        "\n",
        "### 📌 Key Difference:\n",
        "\n",
        "* **OvR** builds **K binary classifiers** for $K$ classes.\n",
        "* **Softmax** builds **one model** that learns **all classes at once**.\n",
        "\n",
        "---\n",
        "\n",
        "## **Question 20: How do we interpret coefficients in Logistic Regression?**\n",
        "\n",
        "Each coefficient $\\beta_j$ shows how the **log-odds** of the outcome change with a one-unit increase in feature $x_j$.\n",
        "\n",
        "$$\n",
        "\\text{Logit}(p) = \\log\\left(\\frac{p}{1 - p}\\right) = \\beta_0 + \\beta_1 x_1 + \\dots + \\beta_n x_n\n",
        "$$\n",
        "\n",
        "### ✅ Interpretations:\n",
        "\n",
        "1. **Positive Coefficient**:\n",
        "   As $x_j$ increases, the **odds** of the positive class increase.\n",
        "\n",
        "2. **Negative Coefficient**:\n",
        "   As $x_j$ increases, the **odds** of the positive class decrease.\n",
        "\n",
        "3. **Exponentiated Coefficient** $e^{\\beta_j}$:\n",
        "   Represents **multiplicative change** in the odds.\n",
        "\n",
        "### 🔍 Example:\n",
        "\n",
        "If $\\beta_2 = 0.7$, then:\n",
        "\n",
        "$$\n",
        "e^{0.7} \\approx 2.01\n",
        "$$\n",
        "\n",
        "This means the **odds double** for a one-unit increase in $x_2$, holding other variables constant.\n",
        "\n",
        "---\n",
        "\n",
        "\n"
      ],
      "metadata": {
        "id": "oMyoDh7nbVLc"
      }
    },
    {
      "cell_type": "markdown",
      "source": [
        "###practical questions"
      ],
      "metadata": {
        "id": "Y_CYmLaRcTMD"
      }
    },
    {
      "cell_type": "code",
      "execution_count": 1,
      "metadata": {
        "colab": {
          "base_uri": "https://localhost:8080/"
        },
        "id": "zlwqK4lDa7Ev",
        "outputId": "fd01dc0f-f112-42c8-dcfa-116d579638d0"
      },
      "outputs": [
        {
          "output_type": "stream",
          "name": "stdout",
          "text": [
            "Accuracy: 0.956140350877193\n"
          ]
        }
      ],
      "source": [
        "# QUESTION 1: Write a Python program that loads a dataset, splits it into training and testing sets, applies Logistic Regression, and prints the model accuracy.\n",
        "\n",
        "from sklearn.datasets import load_breast_cancer\n",
        "from sklearn.linear_model import LogisticRegression\n",
        "from sklearn.model_selection import train_test_split\n",
        "from sklearn.metrics import accuracy_score\n",
        "\n",
        "X, y = load_breast_cancer(return_X_y=True)\n",
        "X_train, X_test, y_train, y_test = train_test_split(X, y, test_size=0.2, random_state=42)\n",
        "\n",
        "model = LogisticRegression(max_iter=10000)\n",
        "model.fit(X_train, y_train)\n",
        "\n",
        "y_pred = model.predict(X_test)\n",
        "print(\"Accuracy:\", accuracy_score(y_test, y_pred))\n"
      ]
    },
    {
      "cell_type": "code",
      "source": [
        "# QUESTION 2: Write a Python program to apply L1 regularization (Lasso) on a dataset using LogisticRegression(penalty='l1') and print the model accuracy.\n",
        "\n",
        "from sklearn.datasets import load_breast_cancer\n",
        "from sklearn.linear_model import LogisticRegression\n",
        "from sklearn.model_selection import train_test_split\n",
        "from sklearn.metrics import accuracy_score\n",
        "\n",
        "X, y = load_breast_cancer(return_X_y=True)\n",
        "X_train, X_test, y_train, y_test = train_test_split(X, y, test_size=0.2, random_state=42)\n",
        "\n",
        "model = LogisticRegression(penalty='l1', solver='liblinear', max_iter=10000)\n",
        "model.fit(X_train, y_train)\n",
        "\n",
        "y_pred = model.predict(X_test)\n",
        "print(\"L1-Regularized Accuracy:\", accuracy_score(y_test, y_pred))\n"
      ],
      "metadata": {
        "colab": {
          "base_uri": "https://localhost:8080/"
        },
        "id": "znF84dmicYAP",
        "outputId": "0366d52e-4126-40fa-d32d-5b466df047ba"
      },
      "execution_count": 2,
      "outputs": [
        {
          "output_type": "stream",
          "name": "stdout",
          "text": [
            "L1-Regularized Accuracy: 0.956140350877193\n"
          ]
        }
      ]
    },
    {
      "cell_type": "code",
      "source": [
        "# QUESTION 3: Write a Python program to train Logistic Regression with L2 regularization (Ridge) using LogisticRegression(penalty='l2'). Print model accuracy and coefficients.\n",
        "\n",
        "from sklearn.datasets import load_breast_cancer\n",
        "from sklearn.linear_model import LogisticRegression\n",
        "from sklearn.model_selection import train_test_split\n",
        "from sklearn.metrics import accuracy_score\n",
        "\n",
        "X, y = load_breast_cancer(return_X_y=True)\n",
        "X_train, X_test, y_train, y_test = train_test_split(X, y, test_size=0.2, random_state=42)\n",
        "\n",
        "model = LogisticRegression(penalty='l2', solver='liblinear', max_iter=10000)\n",
        "model.fit(X_train, y_train)\n",
        "\n",
        "y_pred = model.predict(X_test)\n",
        "print(\"L2-Regularized Accuracy:\", accuracy_score(y_test, y_pred))\n",
        "print(\"Coefficients:\", model.coef_)\n"
      ],
      "metadata": {
        "colab": {
          "base_uri": "https://localhost:8080/"
        },
        "id": "BcwtottMcY10",
        "outputId": "c1b422f6-193b-4e36-edd2-1b16d8b067e1"
      },
      "execution_count": 4,
      "outputs": [
        {
          "output_type": "stream",
          "name": "stdout",
          "text": [
            "L2-Regularized Accuracy: 0.956140350877193\n",
            "Coefficients: [[ 2.13248406e+00  1.52771940e-01 -1.45091255e-01 -8.28669349e-04\n",
            "  -1.42636015e-01 -4.15568847e-01 -6.51940282e-01 -3.44456106e-01\n",
            "  -2.07613380e-01 -2.97739324e-02 -5.00338038e-02  1.44298427e+00\n",
            "  -3.03857384e-01 -7.25692126e-02 -1.61591524e-02 -1.90655332e-03\n",
            "  -4.48855442e-02 -3.77188737e-02 -4.17516190e-02  5.61347410e-03\n",
            "   1.23214996e+00 -4.04581097e-01 -3.62091502e-02 -2.70867580e-02\n",
            "  -2.62630530e-01 -1.20898539e+00 -1.61796947e+00 -6.15250835e-01\n",
            "  -7.42763610e-01 -1.16960181e-01]]\n"
          ]
        }
      ]
    },
    {
      "cell_type": "code",
      "source": [
        "# QUESTION 4: Write a Python program to train Logistic Regression with Elastic Net Regularization (penalty='elasticnet').\n",
        "\n",
        "from sklearn.datasets import load_breast_cancer\n",
        "from sklearn.linear_model import LogisticRegression\n",
        "from sklearn.model_selection import train_test_split\n",
        "from sklearn.metrics import accuracy_score\n",
        "\n",
        "X, y = load_breast_cancer(return_X_y=True)\n",
        "X_train, X_test, y_train, y_test = train_test_split(X, y, test_size=0.2, random_state=42)\n",
        "\n",
        "model = LogisticRegression(penalty='elasticnet', solver='saga', l1_ratio=0.5, max_iter=10000)\n",
        "model.fit(X_train, y_train)\n",
        "\n",
        "y_pred = model.predict(X_test)\n",
        "print(\"Elastic Net Accuracy:\", accuracy_score(y_test, y_pred))\n"
      ],
      "metadata": {
        "colab": {
          "base_uri": "https://localhost:8080/"
        },
        "id": "wG_eAYHTcbzA",
        "outputId": "441f700f-4b37-4623-c51d-08e11f8e1d02"
      },
      "execution_count": 3,
      "outputs": [
        {
          "output_type": "stream",
          "name": "stdout",
          "text": [
            "Elastic Net Accuracy: 0.9736842105263158\n"
          ]
        }
      ]
    },
    {
      "cell_type": "code",
      "source": [
        "# QUESTION 5: Write a Python program to train a Logistic Regression model for multiclass classification using multi_class='ovr'.\n",
        "\n",
        "from sklearn.datasets import load_digits\n",
        "from sklearn.linear_model import LogisticRegression\n",
        "from sklearn.model_selection import train_test_split\n",
        "from sklearn.metrics import accuracy_score\n",
        "\n",
        "X, y = load_digits(return_X_y=True)\n",
        "X_train, X_test, y_train, y_test = train_test_split(X, y, test_size=0.2, random_state=42)\n",
        "\n",
        "model = LogisticRegression(multi_class='ovr', solver='liblinear', max_iter=10000)\n",
        "model.fit(X_train, y_train)\n",
        "\n",
        "y_pred = model.predict(X_test)\n",
        "print(\"Multiclass OvR Accuracy:\", accuracy_score(y_test, y_pred))\n"
      ],
      "metadata": {
        "colab": {
          "base_uri": "https://localhost:8080/"
        },
        "id": "4y1Jlc33chBs",
        "outputId": "12e19e33-6413-405c-d5c5-33fafb0e55b2"
      },
      "execution_count": 5,
      "outputs": [
        {
          "output_type": "stream",
          "name": "stderr",
          "text": [
            "/usr/local/lib/python3.11/dist-packages/sklearn/linear_model/_logistic.py:1256: FutureWarning: 'multi_class' was deprecated in version 1.5 and will be removed in 1.7. Use OneVsRestClassifier(LogisticRegression(..)) instead. Leave it to its default value to avoid this warning.\n",
            "  warnings.warn(\n"
          ]
        },
        {
          "output_type": "stream",
          "name": "stdout",
          "text": [
            "Multiclass OvR Accuracy: 0.9611111111111111\n"
          ]
        }
      ]
    },
    {
      "cell_type": "code",
      "source": [
        "# QUESTION 6: Write a Python program to apply GridSearchCV to tune the hyperparameters (C and penalty) of Logistic Regression. Print the best parameters and accuracy.\n",
        "\n",
        "from sklearn.datasets import load_breast_cancer\n",
        "from sklearn.linear_model import LogisticRegression\n",
        "from sklearn.model_selection import GridSearchCV, train_test_split\n",
        "from sklearn.metrics import accuracy_score\n",
        "\n",
        "X, y = load_breast_cancer(return_X_y=True)\n",
        "X_train, X_test, y_train, y_test = train_test_split(X, y, test_size=0.2, random_state=42)\n",
        "\n",
        "param_grid = {\n",
        "    'C': [0.01, 0.1, 1, 10],\n",
        "    'penalty': ['l1', 'l2'],\n",
        "    'solver': ['liblinear']\n",
        "}\n",
        "\n",
        "grid = GridSearchCV(LogisticRegression(max_iter=10000), param_grid, cv=5)\n",
        "grid.fit(X_train, y_train)\n",
        "\n",
        "print(\"Best Parameters:\", grid.best_params_)\n",
        "print(\"Best Accuracy:\", grid.score(X_test, y_test))\n"
      ],
      "metadata": {
        "colab": {
          "base_uri": "https://localhost:8080/"
        },
        "id": "y3sb0Wywci-5",
        "outputId": "dbcdba8a-b48c-4496-ce0e-5ee12d2fd8a0"
      },
      "execution_count": 6,
      "outputs": [
        {
          "output_type": "stream",
          "name": "stdout",
          "text": [
            "Best Parameters: {'C': 10, 'penalty': 'l2', 'solver': 'liblinear'}\n",
            "Best Accuracy: 0.956140350877193\n"
          ]
        }
      ]
    },
    {
      "cell_type": "code",
      "source": [
        "# QUESTION 6: Write a Python program to apply GridSearchCV to tune the hyperparameters (C and penalty) of Logistic Regression. Print the best parameters and accuracy.\n",
        "\n",
        "from sklearn.datasets import load_breast_cancer\n",
        "from sklearn.linear_model import LogisticRegression\n",
        "from sklearn.model_selection import GridSearchCV, train_test_split\n",
        "from sklearn.metrics import accuracy_score\n",
        "\n",
        "X, y = load_breast_cancer(return_X_y=True)\n",
        "X_train, X_test, y_train, y_test = train_test_split(X, y, test_size=0.2, random_state=42)\n",
        "\n",
        "param_grid = {\n",
        "    'C': [0.01, 0.1, 1, 10],\n",
        "    'penalty': ['l1', 'l2'],\n",
        "    'solver': ['liblinear']\n",
        "}\n",
        "\n",
        "grid = GridSearchCV(LogisticRegression(max_iter=10000), param_grid, cv=5)\n",
        "grid.fit(X_train, y_train)\n",
        "\n",
        "print(\"Best Parameters:\", grid.best_params_)\n",
        "print(\"Best Accuracy:\", grid.score(X_test, y_test))\n"
      ],
      "metadata": {
        "colab": {
          "base_uri": "https://localhost:8080/"
        },
        "id": "00jSgQY4ck82",
        "outputId": "d48b47d2-979a-4751-8c2c-83ecbe19182f"
      },
      "execution_count": 7,
      "outputs": [
        {
          "output_type": "stream",
          "name": "stdout",
          "text": [
            "Best Parameters: {'C': 10, 'penalty': 'l2', 'solver': 'liblinear'}\n",
            "Best Accuracy: 0.956140350877193\n"
          ]
        }
      ]
    },
    {
      "cell_type": "code",
      "source": [
        "# QUESTION 7: Write a Python program to evaluate Logistic Regression using Stratified K-Fold Cross-Validation. Print the average accuracy.\n",
        "\n",
        "from sklearn.datasets import load_breast_cancer\n",
        "from sklearn.linear_model import LogisticRegression\n",
        "from sklearn.model_selection import StratifiedKFold, cross_val_score\n",
        "\n",
        "X, y = load_breast_cancer(return_X_y=True)\n",
        "model = LogisticRegression(max_iter=10000)\n",
        "\n",
        "skf = StratifiedKFold(n_splits=5, shuffle=True, random_state=42)\n",
        "scores = cross_val_score(model, X, y, cv=skf)\n",
        "\n",
        "print(\"Stratified K-Fold Accuracies:\", scores)\n",
        "print(\"Average Accuracy:\", scores.mean())\n"
      ],
      "metadata": {
        "colab": {
          "base_uri": "https://localhost:8080/"
        },
        "id": "NBq1xOYncm8_",
        "outputId": "0f1f22df-5cf7-4fcc-b2eb-7933a40122b3"
      },
      "execution_count": 8,
      "outputs": [
        {
          "output_type": "stream",
          "name": "stdout",
          "text": [
            "Stratified K-Fold Accuracies: [0.96491228 0.92105263 0.96491228 0.94736842 0.97345133]\n",
            "Average Accuracy: 0.9543393882937432\n"
          ]
        }
      ]
    },
    {
      "cell_type": "code",
      "source": [
        "# QUESTION 8: Write a Python program to load a dataset from a CSV file, apply Logistic Regression, and evaluate its accuracy.\n",
        "\n",
        "# STEP 1: Import required libraries\n",
        "import pandas as pd\n",
        "from sklearn.linear_model import LogisticRegression\n",
        "from sklearn.model_selection import train_test_split\n",
        "from sklearn.metrics import accuracy_score\n",
        "\n",
        "# STEP 2: Download the Iris dataset directly from GitHub\n",
        "url = 'https://raw.githubusercontent.com/uiuc-cse/data-fa14/gh-pages/data/iris.csv'\n",
        "df = pd.read_csv(url)\n",
        "\n",
        "# STEP 3: Split data into features and target\n",
        "X = df.drop('species', axis=1)\n",
        "y = df['species']\n",
        "\n",
        "# STEP 4: Split the dataset into training and testing sets\n",
        "X_train, X_test, y_train, y_test = train_test_split(X, y, test_size=0.2, random_state=42)\n",
        "\n",
        "# STEP 5: Create and train the Logistic Regression model\n",
        "model = LogisticRegression(max_iter=1000)\n",
        "model.fit(X_train, y_train)\n",
        "\n",
        "# STEP 6: Make predictions and evaluate accuracy\n",
        "y_pred = model.predict(X_test)\n",
        "accuracy = accuracy_score(y_test, y_pred)\n",
        "print(\"Model Accuracy on Iris Dataset:\", accuracy)\n"
      ],
      "metadata": {
        "colab": {
          "base_uri": "https://localhost:8080/"
        },
        "id": "I8Jwlacocpdk",
        "outputId": "238bd532-a8ec-4948-8595-755fc69cdfff"
      },
      "execution_count": 12,
      "outputs": [
        {
          "output_type": "stream",
          "name": "stdout",
          "text": [
            "Model Accuracy on Iris Dataset: 1.0\n"
          ]
        }
      ]
    },
    {
      "cell_type": "code",
      "source": [
        "# QUESTION 9: Write a Python program to apply RandomizedSearchCV for tuning hyperparameters (C, penalty, solver) in Logistic Regression. Print the best parameters and accuracy.\n",
        "\n",
        "from sklearn.datasets import load_breast_cancer\n",
        "from sklearn.linear_model import LogisticRegression\n",
        "from sklearn.model_selection import RandomizedSearchCV, train_test_split\n",
        "from sklearn.metrics import accuracy_score\n",
        "from scipy.stats import uniform\n",
        "\n",
        "X, y = load_breast_cancer(return_X_y=True)\n",
        "X_train, X_test, y_train, y_test = train_test_split(X, y, test_size=0.2, random_state=42)\n",
        "\n",
        "param_dist = {\n",
        "    'C': uniform(0.01, 10),\n",
        "    'penalty': ['l1', 'l2'],\n",
        "    'solver': ['liblinear', 'saga']\n",
        "}\n",
        "\n",
        "rand_search = RandomizedSearchCV(LogisticRegression(max_iter=10000), param_distributions=param_dist, n_iter=10, cv=5, random_state=42)\n",
        "rand_search.fit(X_train, y_train)\n",
        "\n",
        "print(\"Best Parameters:\", rand_search.best_params_)\n",
        "print(\"Best Accuracy:\", rand_search.score(X_test, y_test))\n"
      ],
      "metadata": {
        "colab": {
          "base_uri": "https://localhost:8080/"
        },
        "id": "xqbLO-19cskb",
        "outputId": "68c4669e-2edd-4dd3-a02a-d07c53b889fc"
      },
      "execution_count": 10,
      "outputs": [
        {
          "output_type": "stream",
          "name": "stdout",
          "text": [
            "Best Parameters: {'C': np.float64(7.3299394181140505), 'penalty': 'l1', 'solver': 'liblinear'}\n",
            "Best Accuracy: 0.9736842105263158\n"
          ]
        }
      ]
    },
    {
      "cell_type": "code",
      "source": [
        "# QUESTION 10: Write a Python program to implement One-vs-One (OvO) Multiclass Logistic Regression and print accuracy.\n",
        "\n",
        "from sklearn.datasets import load_digits\n",
        "from sklearn.linear_model import LogisticRegression\n",
        "from sklearn.multiclass import OneVsOneClassifier\n",
        "from sklearn.model_selection import train_test_split\n",
        "from sklearn.metrics import accuracy_score\n",
        "\n",
        "X, y = load_digits(return_X_y=True)\n",
        "X_train, X_test, y_train, y_test = train_test_split(X, y, test_size=0.2, random_state=42)\n",
        "\n",
        "ovo_model = OneVsOneClassifier(LogisticRegression(max_iter=10000))\n",
        "ovo_model.fit(X_train, y_train)\n",
        "\n",
        "y_pred = ovo_model.predict(X_test)\n",
        "print(\"One-vs-One Accuracy:\", accuracy_score(y_test, y_pred))\n"
      ],
      "metadata": {
        "colab": {
          "base_uri": "https://localhost:8080/"
        },
        "id": "GRDW2HicdDJy",
        "outputId": "f4c165d2-31d1-4f47-8f20-021c0717d261"
      },
      "execution_count": 11,
      "outputs": [
        {
          "output_type": "stream",
          "name": "stdout",
          "text": [
            "One-vs-One Accuracy: 0.9833333333333333\n"
          ]
        }
      ]
    },
    {
      "cell_type": "code",
      "source": [
        "# QUESTION 11: Write a Python program to train a Logistic Regression model and visualize the confusion matrix for binary classification.\n",
        "\n",
        "from sklearn.datasets import load_breast_cancer\n",
        "from sklearn.linear_model import LogisticRegression\n",
        "from sklearn.model_selection import train_test_split\n",
        "from sklearn.metrics import confusion_matrix, ConfusionMatrixDisplay\n",
        "import matplotlib.pyplot as plt\n",
        "\n",
        "X, y = load_breast_cancer(return_X_y=True)\n",
        "X_train, X_test, y_train, y_test = train_test_split(X, y, test_size=0.2, random_state=42)\n",
        "\n",
        "model = LogisticRegression(max_iter=10000)\n",
        "model.fit(X_train, y_train)\n",
        "\n",
        "y_pred = model.predict(X_test)\n",
        "cm = confusion_matrix(y_test, y_pred)\n",
        "\n",
        "disp = ConfusionMatrixDisplay(confusion_matrix=cm)\n",
        "disp.plot()\n",
        "plt.show()\n"
      ],
      "metadata": {
        "colab": {
          "base_uri": "https://localhost:8080/",
          "height": 455
        },
        "id": "QIwILSQwdKsg",
        "outputId": "09ff8592-fcad-4f55-d0bd-de59df90d18a"
      },
      "execution_count": 13,
      "outputs": [
        {
          "output_type": "display_data",
          "data": {
            "text/plain": [
              "<Figure size 640x480 with 2 Axes>"
            ],
            "image/png": "[encoded data removed]"
          },
          "metadata": {}
        }
      ]
    },
    {
      "cell_type": "code",
      "source": [
        "# QUESTION 12: Write a Python program to train a Logistic Regression model and evaluate its performance using Precision, Recall, and F1-Score.\n",
        "\n",
        "from sklearn.datasets import load_breast_cancer\n",
        "from sklearn.linear_model import LogisticRegression\n",
        "from sklearn.model_selection import train_test_split\n",
        "from sklearn.metrics import precision_score, recall_score, f1_score\n",
        "\n",
        "X, y = load_breast_cancer(return_X_y=True)\n",
        "X_train, X_test, y_train, y_test = train_test_split(X, y, test_size=0.2, random_state=42)\n",
        "\n",
        "model = LogisticRegression(max_iter=10000)\n",
        "model.fit(X_train, y_train)\n",
        "\n",
        "y_pred = model.predict(X_test)\n",
        "print(\"Precision:\", precision_score(y_test, y_pred))\n",
        "print(\"Recall:\", recall_score(y_test, y_pred))\n",
        "print(\"F1-Score:\", f1_score(y_test, y_pred))\n"
      ],
      "metadata": {
        "colab": {
          "base_uri": "https://localhost:8080/"
        },
        "id": "bZTWFLbmeazh",
        "outputId": "4faae3aa-a021-4248-8d5f-69ac4fe68e38"
      },
      "execution_count": 14,
      "outputs": [
        {
          "output_type": "stream",
          "name": "stdout",
          "text": [
            "Precision: 0.9459459459459459\n",
            "Recall: 0.9859154929577465\n",
            "F1-Score: 0.9655172413793104\n"
          ]
        }
      ]
    },
    {
      "cell_type": "code",
      "source": [
        "# QUESTION 13: Write a Python program to train a Logistic Regression model on imbalanced data and apply class weights to improve model performance.\n",
        "\n",
        "from sklearn.datasets import make_classification\n",
        "from sklearn.linear_model import LogisticRegression\n",
        "from sklearn.model_selection import train_test_split\n",
        "from sklearn.metrics import classification_report\n",
        "\n",
        "X, y = make_classification(n_classes=2, weights=[0.9, 0.1], n_samples=1000, random_state=42)\n",
        "\n",
        "X_train, X_test, y_train, y_test = train_test_split(X, y, test_size=0.2, random_state=42)\n",
        "\n",
        "model = LogisticRegression(class_weight='balanced', max_iter=10000)\n",
        "model.fit(X_train, y_train)\n",
        "\n",
        "y_pred = model.predict(X_test)\n",
        "print(classification_report(y_test, y_pred))\n"
      ],
      "metadata": {
        "colab": {
          "base_uri": "https://localhost:8080/"
        },
        "id": "uuvU1HuaefXD",
        "outputId": "bba5f8bb-cf22-4ea6-a7b4-26d7aa37f0bd"
      },
      "execution_count": 15,
      "outputs": [
        {
          "output_type": "stream",
          "name": "stdout",
          "text": [
            "              precision    recall  f1-score   support\n",
            "\n",
            "           0       0.97      0.88      0.92       180\n",
            "           1       0.41      0.75      0.53        20\n",
            "\n",
            "    accuracy                           0.86       200\n",
            "   macro avg       0.69      0.81      0.72       200\n",
            "weighted avg       0.91      0.86      0.88       200\n",
            "\n"
          ]
        }
      ]
    },
    {
      "cell_type": "code",
      "source": [
        "# QUESTION 14: Write a Python program to train Logistic Regression on the Titanic dataset, handle missing values, and evaluate performance.\n",
        "\n",
        "import pandas as pd\n",
        "import warnings\n",
        "from sklearn.linear_model import LogisticRegression\n",
        "from sklearn.model_selection import train_test_split\n",
        "from sklearn.metrics import accuracy_score\n",
        "\n",
        "warnings.filterwarnings(\"ignore\")\n",
        "\n",
        "# Load dataset\n",
        "url = 'https://raw.githubusercontent.com/datasciencedojo/datasets/master/titanic.csv'\n",
        "df = pd.read_csv(url)\n",
        "\n",
        "# Handle missing values without chained assignment warnings\n",
        "df.fillna({'Age': df['Age'].median(), 'Embarked': df['Embarked'].mode()[0]}, inplace=True)\n",
        "\n",
        "# One-hot encode categorical columns\n",
        "df = pd.get_dummies(df, columns=['Sex', 'Embarked'], drop_first=True)\n",
        "\n",
        "# Feature selection\n",
        "features = ['Pclass', 'Age', 'SibSp', 'Parch', 'Fare', 'Sex_male', 'Embarked_Q', 'Embarked_S']\n",
        "X = df[features]\n",
        "y = df['Survived']\n",
        "\n",
        "# Train/test split\n",
        "X_train, X_test, y_train, y_test = train_test_split(X, y, test_size=0.2, random_state=42)\n",
        "\n",
        "# Train model\n",
        "model = LogisticRegression(max_iter=1000, solver='liblinear')\n",
        "model.fit(X_train, y_train)\n",
        "\n",
        "# Evaluate\n",
        "y_pred = model.predict(X_test)\n",
        "print(\"Titanic Accuracy:\", accuracy_score(y_test, y_pred))\n"
      ],
      "metadata": {
        "colab": {
          "base_uri": "https://localhost:8080/"
        },
        "id": "quneP9NGeiz1",
        "outputId": "792a4416-f65d-45d8-bda7-e68c7fe70dcf"
      },
      "execution_count": 19,
      "outputs": [
        {
          "output_type": "stream",
          "name": "stdout",
          "text": [
            "Titanic Accuracy: 0.7821229050279329\n"
          ]
        }
      ]
    },
    {
      "cell_type": "code",
      "source": [
        "# QUESTION 15: Write a Python program to apply feature scaling (Standardization) before training a Logistic Regression model. Evaluate its accuracy and compare results with and without scaling.\n",
        "\n",
        "from sklearn.datasets import load_breast_cancer\n",
        "from sklearn.linear_model import LogisticRegression\n",
        "from sklearn.model_selection import train_test_split\n",
        "from sklearn.preprocessing import StandardScaler\n",
        "from sklearn.metrics import accuracy_score\n",
        "\n",
        "X, y = load_breast_cancer(return_X_y=True)\n",
        "X_train, X_test, y_train, y_test = train_test_split(X, y, test_size=0.2, random_state=42)\n",
        "\n",
        "# Without scaling\n",
        "model1 = LogisticRegression(max_iter=10000)\n",
        "model1.fit(X_train, y_train)\n",
        "y_pred1 = model1.predict(X_test)\n",
        "acc1 = accuracy_score(y_test, y_pred1)\n",
        "\n",
        "# With scaling\n",
        "scaler = StandardScaler()\n",
        "X_train_scaled = scaler.fit_transform(X_train)\n",
        "X_test_scaled = scaler.transform(X_test)\n",
        "\n",
        "model2 = LogisticRegression(max_iter=10000)\n",
        "model2.fit(X_train_scaled, y_train)\n",
        "y_pred2 = model2.predict(X_test_scaled)\n",
        "acc2 = accuracy_score(y_test, y_pred2)\n",
        "\n",
        "print(\"Accuracy without scaling:\", acc1)\n",
        "print(\"Accuracy with scaling:\", acc2)\n"
      ],
      "metadata": {
        "colab": {
          "base_uri": "https://localhost:8080/"
        },
        "id": "1gSTY6Q4ffD-",
        "outputId": "3c7865b9-a601-4158-dce6-bd3934493a20"
      },
      "execution_count": 20,
      "outputs": [
        {
          "output_type": "stream",
          "name": "stdout",
          "text": [
            "Accuracy without scaling: 0.956140350877193\n",
            "Accuracy with scaling: 0.9736842105263158\n"
          ]
        }
      ]
    },
    {
      "cell_type": "code",
      "source": [
        "# QUESTION 16: Write a Python program to train Logistic Regression and evaluate its performance using ROC-AUC score.\n",
        "\n",
        "from sklearn.datasets import load_breast_cancer\n",
        "from sklearn.linear_model import LogisticRegression\n",
        "from sklearn.model_selection import train_test_split\n",
        "from sklearn.metrics import roc_auc_score\n",
        "\n",
        "X, y = load_breast_cancer(return_X_y=True)\n",
        "X_train, X_test, y_train, y_test = train_test_split(X, y, test_size=0.2, random_state=42)\n",
        "\n",
        "model = LogisticRegression(max_iter=10000)\n",
        "model.fit(X_train, y_train)\n",
        "\n",
        "y_probs = model.predict_proba(X_test)[:, 1]\n",
        "roc_auc = roc_auc_score(y_test, y_probs)\n",
        "\n",
        "print(\"ROC-AUC Score:\", roc_auc)\n"
      ],
      "metadata": {
        "colab": {
          "base_uri": "https://localhost:8080/"
        },
        "id": "YYRFsZvqemjB",
        "outputId": "1158dd0d-d483-428b-a9d7-c1177eeddc07"
      },
      "execution_count": 21,
      "outputs": [
        {
          "output_type": "stream",
          "name": "stdout",
          "text": [
            "ROC-AUC Score: 0.9977071732721913\n"
          ]
        }
      ]
    },
    {
      "cell_type": "code",
      "source": [
        "# QUESTION 17: Write a Python program to train Logistic Regression using a custom learning rate (C=0.5) and evaluate accuracy.\n",
        "\n",
        "from sklearn.datasets import load_breast_cancer\n",
        "from sklearn.linear_model import LogisticRegression\n",
        "from sklearn.model_selection import train_test_split\n",
        "from sklearn.metrics import accuracy_score\n",
        "\n",
        "X, y = load_breast_cancer(return_X_y=True)\n",
        "X_train, X_test, y_train, y_test = train_test_split(X, y, test_size=0.2, random_state=42)\n",
        "\n",
        "model = LogisticRegression(C=0.5, max_iter=10000)\n",
        "model.fit(X_train, y_train)\n",
        "\n",
        "y_pred = model.predict(X_test)\n",
        "print(\"Accuracy with C=0.5:\", accuracy_score(y_test, y_pred))\n"
      ],
      "metadata": {
        "colab": {
          "base_uri": "https://localhost:8080/"
        },
        "id": "6vKtLBjFfmBr",
        "outputId": "23cbc984-6be9-492b-f1db-cab032865fa3"
      },
      "execution_count": 22,
      "outputs": [
        {
          "output_type": "stream",
          "name": "stdout",
          "text": [
            "Accuracy with C=0.5: 0.9649122807017544\n"
          ]
        }
      ]
    },
    {
      "cell_type": "code",
      "source": [
        "# QUESTION 18: Write a Python program to train Logistic Regression and identify important features based on model coefficients.\n",
        "\n",
        "from sklearn.datasets import load_breast_cancer\n",
        "from sklearn.linear_model import LogisticRegression\n",
        "import pandas as pd\n",
        "\n",
        "X, y = load_breast_cancer(return_X_y=True)\n",
        "feature_names = load_breast_cancer().feature_names\n",
        "\n",
        "model = LogisticRegression(max_iter=10000)\n",
        "model.fit(X, y)\n",
        "\n",
        "coefficients = model.coef_[0]\n",
        "feature_importance = pd.DataFrame({'Feature': feature_names, 'Coefficient': coefficients})\n",
        "feature_importance = feature_importance.sort_values(by='Coefficient', ascending=False)\n",
        "\n",
        "print(feature_importance)\n"
      ],
      "metadata": {
        "colab": {
          "base_uri": "https://localhost:8080/"
        },
        "id": "TDzdHTNGfpYy",
        "outputId": "1e7f5bc2-1d3e-4aa7-aa9f-4caf3f4af983"
      },
      "execution_count": 23,
      "outputs": [
        {
          "output_type": "stream",
          "name": "stdout",
          "text": [
            "                    Feature  Coefficient\n",
            "11            texture error     1.269702\n",
            "0               mean radius     0.998294\n",
            "1              mean texture     0.182224\n",
            "20             worst radius     0.141487\n",
            "12          perimeter error     0.123329\n",
            "15        compactness error     0.077448\n",
            "3                 mean area     0.022930\n",
            "19  fractal dimension error     0.015566\n",
            "23               worst area    -0.013620\n",
            "14         smoothness error    -0.026667\n",
            "9    mean fractal dimension    -0.029688\n",
            "16          concavity error    -0.030446\n",
            "18           symmetry error    -0.034343\n",
            "17     concave points error    -0.039286\n",
            "10             radius error    -0.079991\n",
            "29  worst fractal dimension    -0.092212\n",
            "22          worst perimeter    -0.106278\n",
            "13               area error    -0.109478\n",
            "4           mean smoothness    -0.183688\n",
            "5          mean compactness    -0.214135\n",
            "8             mean symmetry    -0.271601\n",
            "2            mean perimeter    -0.277385\n",
            "7       mean concave points    -0.303780\n",
            "24         worst smoothness    -0.369395\n",
            "21            worst texture    -0.439015\n",
            "6            mean concavity    -0.541417\n",
            "27     worst concave points    -0.621370\n",
            "25        worst compactness    -0.665711\n",
            "28           worst symmetry    -0.733936\n",
            "26          worst concavity    -1.438114\n"
          ]
        }
      ]
    },
    {
      "cell_type": "code",
      "source": [
        "# QUESTION 19: Write a Python program to train Logistic Regression and evaluate its performance using Cohen’s Kappa Score.\n",
        "\n",
        "from sklearn.datasets import load_breast_cancer\n",
        "from sklearn.linear_model import LogisticRegression\n",
        "from sklearn.model_selection import train_test_split\n",
        "from sklearn.metrics import cohen_kappa_score\n",
        "\n",
        "X, y = load_breast_cancer(return_X_y=True)\n",
        "X_train, X_test, y_train, y_test = train_test_split(X, y, test_size=0.2, random_state=42)\n",
        "\n",
        "model = LogisticRegression(max_iter=10000)\n",
        "model.fit(X_train, y_train)\n",
        "\n",
        "y_pred = model.predict(X_test)\n",
        "kappa = cohen_kappa_score(y_test, y_pred)\n",
        "\n",
        "print(\"Cohen's Kappa Score:\", kappa)\n"
      ],
      "metadata": {
        "colab": {
          "base_uri": "https://localhost:8080/"
        },
        "id": "2GIXgD9YfrZG",
        "outputId": "6ad4d054-5722-4fe1-efb7-bef1b51789e3"
      },
      "execution_count": 24,
      "outputs": [
        {
          "output_type": "stream",
          "name": "stdout",
          "text": [
            "Cohen's Kappa Score: 0.9053470607771504\n"
          ]
        }
      ]
    },
    {
      "cell_type": "code",
      "source": [
        "# QUESTION 20: Write a Python program to train Logistic Regression and visualize the Precision-Recall Curve for binary classification.\n",
        "\n",
        "from sklearn.datasets import load_breast_cancer\n",
        "from sklearn.linear_model import LogisticRegression\n",
        "from sklearn.model_selection import train_test_split\n",
        "from sklearn.metrics import precision_recall_curve, PrecisionRecallDisplay\n",
        "import matplotlib.pyplot as plt\n",
        "\n",
        "X, y = load_breast_cancer(return_X_y=True)\n",
        "X_train, X_test, y_train, y_test = train_test_split(X, y, test_size=0.2, random_state=42)\n",
        "\n",
        "model = LogisticRegression(max_iter=10000)\n",
        "model.fit(X_train, y_train)\n",
        "\n",
        "y_scores = model.predict_proba(X_test)[:, 1]\n",
        "precision, recall, _ = precision_recall_curve(y_test, y_scores)\n",
        "\n",
        "disp = PrecisionRecallDisplay(precision=precision, recall=recall)\n",
        "disp.plot()\n",
        "plt.show()\n"
      ],
      "metadata": {
        "colab": {
          "base_uri": "https://localhost:8080/",
          "height": 451
        },
        "id": "QmQ9AVYIftrS",
        "outputId": "f9174f77-5991-4af1-ae95-9831f86f39f5"
      },
      "execution_count": 25,
      "outputs": [
        {
          "output_type": "display_data",
          "data": {
            "text/plain": [
              "<Figure size 640x480 with 1 Axes>"
            ],
            "image/png": "[encoded data removed]"
          },
          "metadata": {}
        }
      ]
    },
    {
      "cell_type": "code",
      "source": [
        "# QUESTION 21: Write a Python program to train Logistic Regression with different solvers (liblinear, saga, lbfgs) and compare their accuracy.\n",
        "\n",
        "from sklearn.datasets import load_breast_cancer\n",
        "from sklearn.linear_model import LogisticRegression\n",
        "from sklearn.model_selection import train_test_split\n",
        "from sklearn.metrics import accuracy_score\n",
        "\n",
        "X, y = load_breast_cancer(return_X_y=True)\n",
        "X_train, X_test, y_train, y_test = train_test_split(X, y, test_size=0.2, random_state=42)\n",
        "\n",
        "solvers = ['liblinear', 'saga', 'lbfgs']\n",
        "for solver in solvers:\n",
        "    model = LogisticRegression(solver=solver, max_iter=10000)\n",
        "    model.fit(X_train, y_train)\n",
        "    y_pred = model.predict(X_test)\n",
        "    acc = accuracy_score(y_test, y_pred)\n",
        "    print(f\"Accuracy with solver={solver}: {acc}\")\n"
      ],
      "metadata": {
        "colab": {
          "base_uri": "https://localhost:8080/"
        },
        "id": "gb_GgrT6fv46",
        "outputId": "497b00bf-90ca-44f8-b236-1e863e8605aa"
      },
      "execution_count": 26,
      "outputs": [
        {
          "output_type": "stream",
          "name": "stdout",
          "text": [
            "Accuracy with solver=liblinear: 0.956140350877193\n",
            "Accuracy with solver=saga: 0.9736842105263158\n",
            "Accuracy with solver=lbfgs: 0.956140350877193\n"
          ]
        }
      ]
    },
    {
      "cell_type": "code",
      "source": [
        "# QUESTION 22: Write a Python program to train Logistic Regression and evaluate its performance using Matthews Correlation Coefficient (MCC).\n",
        "\n",
        "from sklearn.datasets import load_breast_cancer\n",
        "from sklearn.linear_model import LogisticRegression\n",
        "from sklearn.model_selection import train_test_split\n",
        "from sklearn.metrics import matthews_corrcoef\n",
        "\n",
        "X, y = load_breast_cancer(return_X_y=True)\n",
        "X_train, X_test, y_train, y_test = train_test_split(X, y, test_size=0.2, random_state=42)\n",
        "\n",
        "model = LogisticRegression(max_iter=10000)\n",
        "model.fit(X_train, y_train)\n",
        "\n",
        "y_pred = model.predict(X_test)\n",
        "mcc = matthews_corrcoef(y_test, y_pred)\n",
        "\n",
        "print(\"Matthews Correlation Coefficient:\", mcc)\n"
      ],
      "metadata": {
        "colab": {
          "base_uri": "https://localhost:8080/"
        },
        "id": "ZszSkJpBf1vC",
        "outputId": "ffa43a1f-fd77-45f8-935f-ac942d08f85e"
      },
      "execution_count": 27,
      "outputs": [
        {
          "output_type": "stream",
          "name": "stdout",
          "text": [
            "Matthews Correlation Coefficient: 0.9068106119605033\n"
          ]
        }
      ]
    },
    {
      "cell_type": "code",
      "source": [
        "# QUESTION 23: Write a Python program to train Logistic Regression on both raw and standardized data. Compare their accuracy to see the impact of feature scaling.\n",
        "\n",
        "from sklearn.datasets import load_breast_cancer\n",
        "from sklearn.linear_model import LogisticRegression\n",
        "from sklearn.model_selection import train_test_split\n",
        "from sklearn.preprocessing import StandardScaler\n",
        "from sklearn.metrics import accuracy_score\n",
        "\n",
        "X, y = load_breast_cancer(return_X_y=True)\n",
        "X_train, X_test, y_train, y_test = train_test_split(X, y, test_size=0.2, random_state=42)\n",
        "\n",
        "# Raw data\n",
        "model_raw = LogisticRegression(max_iter=10000)\n",
        "model_raw.fit(X_train, y_train)\n",
        "y_pred_raw = model_raw.predict(X_test)\n",
        "acc_raw = accuracy_score(y_test, y_pred_raw)\n",
        "\n",
        "# Standardized data\n",
        "scaler = StandardScaler()\n",
        "X_train_scaled = scaler.fit_transform(X_train)\n",
        "X_test_scaled = scaler.transform(X_test)\n",
        "\n",
        "model_scaled = LogisticRegression(max_iter=10000)\n",
        "model_scaled.fit(X_train_scaled, y_train)\n",
        "y_pred_scaled = model_scaled.predict(X_test_scaled)\n",
        "acc_scaled = accuracy_score(y_test, y_pred_scaled)\n",
        "\n",
        "print(\"Accuracy on raw data:\", acc_raw)\n",
        "print(\"Accuracy on standardized data:\", acc_scaled)\n"
      ],
      "metadata": {
        "colab": {
          "base_uri": "https://localhost:8080/"
        },
        "id": "10xIL_gIf4eq",
        "outputId": "b62b5738-3d46-42f4-9edc-7f71b7309586"
      },
      "execution_count": 28,
      "outputs": [
        {
          "output_type": "stream",
          "name": "stdout",
          "text": [
            "Accuracy on raw data: 0.956140350877193\n",
            "Accuracy on standardized data: 0.9736842105263158\n"
          ]
        }
      ]
    },
    {
      "cell_type": "code",
      "source": [
        "# QUESTION 24: Write a Python program to train Logistic Regression and find the optimal C (regularization strength) using cross-validation.\n",
        "\n",
        "from sklearn.datasets import load_breast_cancer\n",
        "from sklearn.linear_model import LogisticRegression\n",
        "from sklearn.model_selection import GridSearchCV\n",
        "from sklearn.model_selection import train_test_split\n",
        "\n",
        "X, y = load_breast_cancer(return_X_y=True)\n",
        "X_train, X_test, y_train, y_test = train_test_split(X, y, test_size=0.2, random_state=42)\n",
        "\n",
        "param_grid = {'C': [0.01, 0.1, 1, 10, 100]}\n",
        "grid = GridSearchCV(LogisticRegression(max_iter=10000), param_grid, cv=5)\n",
        "grid.fit(X_train, y_train)\n",
        "\n",
        "print(\"Best C:\", grid.best_params_['C'])\n",
        "print(\"Best cross-validation accuracy:\", grid.best_score_)\n",
        "\n",
        "best_model = grid.best_estimator_\n",
        "print(\"Test set accuracy:\", best_model.score(X_test, y_test))\n"
      ],
      "metadata": {
        "colab": {
          "base_uri": "https://localhost:8080/"
        },
        "id": "hHeKekjSf8Du",
        "outputId": "30d59d82-b24b-4f1e-803f-fe4cdc969a8e"
      },
      "execution_count": 29,
      "outputs": [
        {
          "output_type": "stream",
          "name": "stdout",
          "text": [
            "Best C: 100\n",
            "Best cross-validation accuracy: 0.9692307692307693\n",
            "Test set accuracy: 0.956140350877193\n"
          ]
        }
      ]
    },
    {
      "cell_type": "code",
      "source": [
        "# QUESTION 25: Write a Python program to train Logistic Regression, save the trained model using joblib, and load it again to make predictions.\n",
        "\n",
        "from sklearn.datasets import load_breast_cancer\n",
        "from sklearn.linear_model import LogisticRegression\n",
        "from sklearn.model_selection import train_test_split\n",
        "import joblib\n",
        "\n",
        "X, y = load_breast_cancer(return_X_y=True)\n",
        "X_train, X_test, y_train, y_test = train_test_split(X, y, test_size=0.2, random_state=42)\n",
        "\n",
        "model = LogisticRegression(max_iter=10000)\n",
        "model.fit(X_train, y_train)\n",
        "\n",
        "# Save model\n",
        "joblib.dump(model, 'logistic_model.joblib')\n",
        "\n",
        "# Load model\n",
        "loaded_model = joblib.load('logistic_model.joblib')\n",
        "\n",
        "# Predict\n",
        "y_pred = loaded_model.predict(X_test)\n",
        "print(\"Loaded model accuracy:\", loaded_model.score(X_test, y_test))\n"
      ],
      "metadata": {
        "colab": {
          "base_uri": "https://localhost:8080/"
        },
        "id": "lhNDONPZf6Al",
        "outputId": "33d28ccd-4843-4159-d8e8-e62d918c3be4"
      },
      "execution_count": 30,
      "outputs": [
        {
          "output_type": "stream",
          "name": "stdout",
          "text": [
            "Loaded model accuracy: 0.956140350877193\n"
          ]
        }
      ]
    }
  ]
}